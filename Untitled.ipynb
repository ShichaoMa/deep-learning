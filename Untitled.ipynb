{
 "cells": [
  {
   "cell_type": "markdown",
   "metadata": {},
   "source": [
    "# 我的简历\n",
    "\n",
    "- 求职意向：软件工程师\n",
    "- TEL:      15168855760\n",
    "- Email:     295178242@qq.com\n",
    "\n",
    "# 基本信息\n",
    "- 籍贯：山东淄博\n",
    "- 学历：硕士研究生\n",
    "- 出生年月：1987.10\n",
    "- 婚姻状况：已婚生子\n",
    "- 专业：通信与信息系统\n",
    "- 英语能力: 英语六级\n",
    "\n",
    "# 技术栈\n",
    "\n",
    "- 熟练使用ruby, 了解python c++；\n",
    "- 熟悉sql，掌握git，熟悉linux，使用过sidekiq，了解MySQL  Redis  mongo等数据库；\n",
    "- 熟悉html，css，使用过jquery，bootstrap，angularjs\n",
    "- 了解常见设计模式 元编程\n",
    "\n",
    "# 工作经历\n",
    "时间|公司|职位|工作内容\n",
    "::-|:-:|:-:|::-\n",
    "2014.7-2015.8|京信通信系统(中国)有限公司|软件工程师|使用C++，控制接入设备的上下线、日志功能、资源配置及单元测试;\n",
    "2015.9-2017.7|济南隆恩经贸有限责任公司|软件工程师|使用ruby-rails，上传系统，商城系统的开发及维护\n",
    "2017.10-2018.4|乾诚云商股份有限公司|软件工程师|官网前端（原生js,app前端（angularjs）\n",
    "\n",
    "# 自我评价\n",
    "- 勤恳吃苦，做事踏实认真，学习能力强\n",
    "- 能很快接受新知识新事物，有一定的创新精神\n",
    "- 精力充沛，勤学好问，进取心强\n",
    "- 追求简洁优雅的代码"
   ]
  },
  {
   "cell_type": "code",
   "execution_count": null,
   "metadata": {},
   "outputs": [],
   "source": []
  }
 ],
 "metadata": {
  "kernelspec": {
   "display_name": "Python 3",
   "language": "python",
   "name": "python3"
  }
 },
 "nbformat": 4,
 "nbformat_minor": 2
}
