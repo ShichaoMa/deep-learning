{
 "cells": [
  {
   "cell_type": "markdown",
   "metadata": {},
   "source": [
    "# 函数与极限\n",
    "## 集合\n",
    "### 定义\n",
    "集合(集)是指具有某种特定性质的事物的总体，组成这个集合的事物称为该集合的元素(元)。ceipet大写拉丁字母A, B, C……表示集合，用小写拉丁字母a, b, c……表示集合中的元素。\n",
    "### 集合与元素的关系\n",
    "如果a是集合A的元素，就说a属于A，记作a$\\in$A；如果a不是集合或的元素，就说a不属于A，记作a$\\notin$A。\n",
    "### 集合的种类\n",
    "若它只含有限个元素，则称为有限集；不是有限集的集合称为无限集。\n",
    "### 集合的表示法\n",
    "#### 列举法\n",
    "把集合的全体元素一一列举出来表示，例如，由元素$a_{1}, a_{2}, \\cdots, a_{n}$组成的集合A，可表示成$A=\\left\\{a_{1}, a_{2}, \\cdots, a_{n}\\right\\}$。\n",
    "#### 描述法\n",
    "若集合M是由具有某种性质P的元素x的全体所组成的，就可表示成$M=\\{x | x 具有性质P\\}$。如集合B是方程$x^{2}-1=0$的解集，就可表示成$B=\\left\\{x | x^{2}-1=0\\right\\}$"
   ]
  },
  {
   "cell_type": "code",
   "execution_count": null,
   "metadata": {},
   "outputs": [],
   "source": []
  }
 ],
 "metadata": {
  "kernelspec": {
   "display_name": "Python 3",
   "language": "python",
   "name": "python3"
  },
  "language_info": {
   "codemirror_mode": {
    "name": "ipython",
    "version": 3
   },
   "file_extension": ".py",
   "mimetype": "text/x-python",
   "name": "python",
   "nbconvert_exporter": "python",
   "pygments_lexer": "ipython3",
   "version": "3.6.5"
  }
 },
 "nbformat": 4,
 "nbformat_minor": 2
}
