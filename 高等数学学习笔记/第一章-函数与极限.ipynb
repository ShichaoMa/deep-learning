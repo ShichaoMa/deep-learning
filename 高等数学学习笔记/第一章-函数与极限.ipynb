{
 "cells": [
  {
   "cell_type": "markdown",
   "metadata": {},
   "source": [
    "# 集合\n",
    "## 定义\n",
    "集合(集)是指具有某种特定性质的事物的总体，组成这个集合的事物称为该集合的元素(元)。通常用大写拉丁字母A, B, C……表示集合，用小写拉丁字母a, b, c……表示集合中的元素。\n",
    "## 集合与元素的关系\n",
    "如果a是集合A的元素，就说a属于A，记作a$\\in$A；如果a不是集合或的元素，就说a不属于A，记作a$\\notin$A。\n",
    "## 集合的种类\n",
    "若它只含有限个元素，则称为有限集；不是有限集的集合称为无限集。\n",
    "## 集合的表示法\n",
    "### 列举法\n",
    "把集合的全体元素一一列举出来表示，例如，由元素$a_{1}, a_{2}, \\cdots, a_{n}$组成的集合A，可表示成$A=\\left\\{a_{1}, a_{2}, \\cdots, a_{n}\\right\\}$。\n",
    "### 描述法\n",
    "若集合M是由具有某种性质P的元素x的全体所组成的，就可表示成$M=\\{x | x 具有性质P\\}$。如集合B是方程$x^{2}-1=0$的解集，就可表示成$B=\\left\\{x | x^{2}-1=0\\right\\}$\n",
    "## 几种常见数集\n",
    "对于数集，有时我们在表示数集的字母的右上角标上”*”来排除0的集，标上”+“来表示该数集内排除0与负数\n",
    "- 全体非负整数(自然数)   $N=\\{0,1,2, \\cdots, n, \\cdots\\}$\n",
    "- 全体正整数 $ N^{+}=\\{1,2,3, \\cdots, n, \\cdots\\} $ \n",
    "- 全体整数 $\\mathrm{Z}=\\{\\cdots,-n, \\cdots,-2,-1,0,1,2, \\cdots, n, \\cdots\\}$\n",
    "- 全体有理数 $\\mathbf{Q}=\\left\\{\\frac{p}{q} | p \\in \\mathbf{Z}, q \\in \\mathbf{N}^{+}\\right. 且p与q互质\\}$\n",
    "- 全体实数 R\n",
    "\n",
    "## 几种特殊集合\n",
    "### 子集\n",
    "设A、B是两个集合，如果集合A的元素都是集合B的元素，则称A是B的__子集__，记作$A \\subset B$(读作A包含于B)，或$B \\supset A$(读作B包含A)。\n",
    "如果集合A与集合B互为子集，即$A \\subset B$且$B \\subset B$，则称集合A与集合B __相等__，记作$A = B$，例如,设\n",
    "<center>$A=\\{1,2\\}, \\quad B=\\{x| x^{2}-3 x+2=0 \\}$</center>\n",
    "则$A = B$\n",
    "\n",
    "若$A \\subset B$且$A \\neq B$，即称A是B的__真子集__，记作$A \\nsubseteq B$，例如，$N \\leqq Z \\leqq Q \\leqq R$. \n",
    "### 空集\n",
    "不含任何元素的集合称为__空集__.例如\n",
    "<center>$\\{x | x \\in \\mathbf{R}且x^{2}+1=0 \\}$</center>\n",
    "是空集,因为适合条件$\\{x^{2}+1=0 \\}$的实数是不存在的.空集记作$\\varnothing$,且规定空集$\\varnothing$是任何集合A的子集,即$\\varnothing \\subset A$.\n",
    "\n",
    "## 集合的运算\n",
    "### 并集\n",
    "设A,B是两个集合,由所有属于A或者B的元素组成的集合,称为A与B的并集(简称并),记作$A \\cup B$,即\n",
    "<center>$A \\cup B=\\{x| x \\in A或 x \\in B \\}$</center>\n",
    "\n",
    "### 交集\n",
    "由所有既属于A又属于B的元素组成的集合,称为A与B的交集(简称交),记作$A \\cap B$,即\n",
    "<center>$A \\cap B=\\{x| x \\in A且 x \\in B \\}$</center>\n",
    "\n",
    "### 差集\n",
    "由所有属于A而不属于B的元素组成的集合,称为A与B的差集(简称差),记作$A \\backslash B$,即\n",
    "<center>$ A \\backslash B=\\{x| x \\in A且 x \\in B \\}$</center>\n"
   ]
  },
  {
   "cell_type": "code",
   "execution_count": null,
   "metadata": {},
   "outputs": [],
   "source": []
  },
  {
   "cell_type": "code",
   "execution_count": null,
   "metadata": {},
   "outputs": [],
   "source": []
  }
 ],
 "metadata": {
  "kernelspec": {
   "display_name": "Python 3",
   "language": "python",
   "name": "python3"
  },
  "language_info": {
   "codemirror_mode": {
    "name": "ipython",
    "version": 3
   },
   "file_extension": ".py",
   "mimetype": "text/x-python",
   "name": "python",
   "nbconvert_exporter": "python",
   "pygments_lexer": "ipython3",
   "version": "3.6.5"
  }
 },
 "nbformat": 4,
 "nbformat_minor": 2
}
